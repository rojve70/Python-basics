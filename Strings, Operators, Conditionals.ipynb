{
 "cells": [
  {
   "cell_type": "code",
   "execution_count": 5,
   "metadata": {
    "cocalc": {
     "outputs": {
      "0": {
       "name": "input",
       "opts": {
        "password": false,
        "prompt": "Enter numbers: "
       },
       "output_type": "stream",
       "value": "45 65"
      }
     }
    },
    "collapsed": false
   },
   "outputs": [
    {
     "name": "stdout",
     "output_type": "stream",
     "text": "Enter numbers:  45 65"
    },
    {
     "name": "stdout",
     "output_type": "stream",
     "text": [
      "Put small number.\n"
     ]
    }
   ],
   "source": [
    "#Take two number as input using one input function and calculate the sum of them and check the sum is 45 or not using identity operators.\n",
    "\n",
    "c,d = map(int, input(\"Enter numbers: \").split())\n",
    "\n",
    "sum = c + d\n",
    "if c or d > sum:\n",
    "    print(\"Put small number.\")\n",
    "elif sum == 45:\n",
    "    print(\"It is 45\")\n",
    "else:\n",
    "    print(\"Answer Invalid.\")"
   ]
  },
  {
   "cell_type": "code",
   "execution_count": 9,
   "metadata": {
    "cocalc": {
     "outputs": {
      "0": {
       "name": "input",
       "opts": {
        "password": false,
        "prompt": "Enter 1st string: "
       },
       "output_type": "stream",
       "value": "sium"
      },
      "1": {
       "name": "input",
       "opts": {
        "password": false,
        "prompt": "Enter 2nd string: "
       },
       "output_type": "stream",
       "value": "sium"
      }
     }
    },
    "collapsed": false
   },
   "outputs": [
    {
     "name": "stdout",
     "output_type": "stream",
     "text": "Enter 1st string:  sium"
    },
    {
     "name": "stdout",
     "output_type": "stream",
     "text": "Enter 2nd string:  sium"
    },
    {
     "name": "stdout",
     "output_type": "stream",
     "text": [
      "False\n",
      "True\n"
     ]
    }
   ],
   "source": [
    "#Input two string and check both are same or not, in here you must use identity and comparison operator seperately.\n",
    "str1 = input(\"Enter 1st string: \")\n",
    "str2 = input(\"Enter 2nd string: \")\n",
    "\n",
    "print(str1 is str2)\n",
    "print(str1==str2)"
   ]
  },
  {
   "cell_type": "code",
   "execution_count": 6,
   "metadata": {
    "collapsed": false
   },
   "outputs": [
    {
     "name": "stdout",
     "output_type": "stream",
     "text": [
      "140601690885552\n",
      "140601690887472\n"
     ]
    }
   ],
   "source": [
    "#Why?\n",
    "print(id(str1))\n",
    "print(id(str2))"
   ]
  },
  {
   "cell_type": "code",
   "execution_count": 11,
   "metadata": {
    "collapsed": false
   },
   "outputs": [
    {
     "name": "stdout",
     "output_type": "stream",
     "text": [
      "139977351776496\n",
      "139977351776496\n"
     ]
    }
   ],
   "source": [
    "#Solution : In identity opreator when the string ids are same then the code will run.\n",
    "from sys import intern\n",
    "str1 = intern(str1)\n",
    "str2 = intern(str2)\n",
    "\n",
    "print(id(str1))\n",
    "print(id(str2))\n",
    "\n"
   ]
  },
  {
   "cell_type": "code",
   "execution_count": 13,
   "metadata": {
    "cocalc": {
     "outputs": {
      "0": {
       "name": "input",
       "opts": {
        "password": false,
        "prompt": ""
       },
       "output_type": "stream",
       "value": "5 3"
      },
      "2": {
       "name": "input",
       "opts": {
        "password": false,
        "prompt": ""
       },
       "output_type": "stream",
       "value": "5 4"
      }
     }
    },
    "collapsed": false
   },
   "outputs": [
    {
     "name": "stdout",
     "output_type": "stream",
     "text": " 5 3"
    },
    {
     "name": "stdout",
     "output_type": "stream",
     "text": [
      "125\n"
     ]
    },
    {
     "name": "stdout",
     "output_type": "stream",
     "text": " 5 4"
    },
    {
     "name": "stdout",
     "output_type": "stream",
     "text": [
      "625\n"
     ]
    }
   ],
   "source": [
    "#Input two number as string and consider the first one as base and perform exponent operation on it.\n",
    "n,m = input().split()\n",
    "\n",
    "n = int(n)\n",
    "m = int(m)\n",
    "\n",
    "sum = n ** m\n",
    "print(sum)\n",
    "\n",
    "s,d = map(int, input().split())\n",
    "\n",
    "sum = s ** d\n",
    "print(sum)"
   ]
  },
  {
   "cell_type": "code",
   "execution_count": 16,
   "metadata": {
    "cocalc": {
     "outputs": {
      "0": {
       "name": "input",
       "opts": {
        "password": false,
        "prompt": "Enter numbers: "
       },
       "output_type": "stream",
       "value": "5 23"
      }
     }
    },
    "collapsed": false
   },
   "outputs": [
    {
     "name": "stdout",
     "output_type": "stream",
     "text": "Enter numbers:  5 23"
    },
    {
     "name": "stdout",
     "output_type": "stream",
     "text": [
      "0.21739130434782608\n",
      "0.217\n"
     ]
    }
   ],
   "source": [
    "#Input two number and find the difference between the division and floor division of both numbers.\n",
    "e, g = map(int, input(\"Enter numbers: \").split())\n",
    "\n",
    "di = e/g\n",
    "fdi = e//g\n",
    "d = di - fdi\n",
    "print(d)\n",
    "print(\"%.3f\"%d)"
   ]
  },
  {
   "cell_type": "code",
   "execution_count": 19,
   "metadata": {
    "collapsed": false
   },
   "outputs": [
    {
     "name": "stdout",
     "output_type": "stream",
     "text": [
      "True\n"
     ]
    }
   ],
   "source": [
    "#Take a string like \"Online free course:: Python for research\" and check the word 'python' is in the sentence or not.\n",
    "\n",
    "str = \"Online free course:: Python for research\"\n",
    "\n",
    "ans = \"Python\" in str\n",
    "print(ans)"
   ]
  },
  {
   "cell_type": "code",
   "execution_count": 22,
   "metadata": {
    "cocalc": {
     "outputs": {
      "0": {
       "name": "input",
       "opts": {
        "password": false,
        "prompt": "Enter numbers: "
       },
       "output_type": "stream",
       "value": "23 14"
      }
     }
    },
    "collapsed": false
   },
   "outputs": [
    {
     "name": "stdout",
     "output_type": "stream",
     "text": "Enter numbers:  23 14"
    },
    {
     "name": "stdout",
     "output_type": "stream",
     "text": [
      "161.0 322\n",
      "True\n"
     ]
    }
   ],
   "source": [
    "#Take two numbers as input and consider one number as base of a traingle and one as hight and calculte the area, also consider the numbers as length and width of rectangle and find the area and find the truth value, weather area of traingle is half of the area of rectangle or not.\n",
    "\n",
    "a,b = map(int, input(\"Enter numbers: \").split())\n",
    "\n",
    "area1 = (0.5*a*b)\n",
    "area2 = (a*b)\n",
    "\n",
    "print(area1, area2)\n",
    "print(area1 == (1/2)*area2)"
   ]
  },
  {
   "cell_type": "code",
   "execution_count": 24,
   "metadata": {
    "cocalc": {
     "outputs": {
      "0": {
       "name": "input",
       "opts": {
        "password": false,
        "prompt": "Enter numbers: "
       },
       "output_type": "stream",
       "value": "34 12"
      }
     }
    },
    "collapsed": false
   },
   "outputs": [
    {
     "name": "stdout",
     "output_type": "stream",
     "text": "Enter numbers:  34 12"
    },
    {
     "name": "stdout",
     "output_type": "stream",
     "text": [
      "True\n"
     ]
    }
   ],
   "source": [
    "#Take two numbers as input and find the modular division of the first number by the second one and also find the truth value that the remainder is greather than 5 or not.\n",
    "x,y = map(int, input(\"Enter numbers: \").split())\n",
    "\n",
    "sum = x % y\n",
    "print(sum > 5)"
   ]
  },
  {
   "cell_type": "code",
   "execution_count": 3,
   "metadata": {
    "cocalc": {
     "outputs": {
      "0": {
       "name": "input",
       "opts": {
        "password": false,
        "prompt": "Enter a string: "
       },
       "output_type": "stream",
       "value": "rojve"
      },
      "1": {
       "name": "input",
       "opts": {
        "password": false,
        "prompt": "Enter a number: "
       },
       "output_type": "stream",
       "value": "70"
      }
     }
    },
    "collapsed": false
   },
   "outputs": [
    {
     "name": "stdout",
     "output_type": "stream",
     "text": "Enter a string:  rojve"
    },
    {
     "name": "stdout",
     "output_type": "stream",
     "text": "Enter a number:  70"
    },
    {
     "name": "stdout",
     "output_type": "stream",
     "text": [
      "rojve70\n"
     ]
    }
   ],
   "source": [
    "#Take one string and one number as input and add the string with the number.\n",
    "str1 = input(\"Enter a string: \")\n",
    "num = int(input(\"Enter a number: \"))\n",
    "\n",
    "num1 = str(num)\n",
    "new_str = str1 + num1\n",
    "print(new_str)"
   ]
  },
  {
   "cell_type": "code",
   "execution_count": 4,
   "metadata": {
    "collapsed": false
   },
   "outputs": [
    {
     "name": "stdout",
     "output_type": "stream",
     "text": [
      "0\n",
      "15\n",
      "15\n",
      "-13\n",
      "24\n",
      "6\n"
     ]
    }
   ],
   "source": [
    "#Take two numbers and perform all betwise operation and show the result. You must write the binary values as a comment when necessary.\n",
    "a = 12\n",
    "b = 3\n",
    "\n",
    "print(a & b)\n",
    "print(a | b)\n",
    "print(a ^ b)\n",
    "print(~a)\n",
    "print(a<<1)   #for each ghor multiplication by 2\n",
    "print(a>>1)   #for each ghor divition by 2"
   ]
  },
  {
   "cell_type": "code",
   "execution_count": 0,
   "metadata": {
    "collapsed": false
   },
   "outputs": [
   ],
   "source": [
    "#Write a python program that contain the operatrs that are discussed in Lecture 2.3"
   ]
  },
  {
   "cell_type": "code",
   "execution_count": 19,
   "metadata": {
    "cocalc": {
     "outputs": {
      "0": {
       "name": "input",
       "opts": {
        "password": false,
        "prompt": ""
       },
       "output_type": "stream",
       "value": "6"
      }
     }
    },
    "collapsed": false
   },
   "outputs": [
    {
     "name": "stdout",
     "output_type": "stream",
     "text": " 6"
    },
    {
     "name": "stdout",
     "output_type": "stream",
     "text": [
      "not five\n"
     ]
    }
   ],
   "source": [
    "n = int(input())\n",
    "\n",
    "if(n==5):\n",
    "    print(\"This is five\")\n",
    "else:\n",
    "    print(\"not five\")\n",
    "    \n"
   ]
  },
  {
   "cell_type": "code",
   "execution_count": 25,
   "metadata": {
    "cocalc": {
     "outputs": {
      "0": {
       "name": "input",
       "opts": {
        "password": false,
        "prompt": ""
       },
       "output_type": "stream",
       "value": "python"
      }
     }
    },
    "collapsed": false
   },
   "outputs": [
    {
     "name": "stdout",
     "output_type": "stream",
     "text": " python"
    },
    {
     "name": "stdout",
     "output_type": "stream",
     "text": [
      "This is python\n"
     ]
    }
   ],
   "source": [
    "str1 = input()\n",
    "\n",
    "if(str1 =='python'):\n",
    "    print(\"This is python\")"
   ]
  },
  {
   "cell_type": "code",
   "execution_count": 0,
   "metadata": {
    "collapsed": false
   },
   "outputs": [
   ],
   "source": [
   ]
  },
  {
   "cell_type": "code",
   "execution_count": 5,
   "metadata": {
    "cocalc": {
     "outputs": {
      "0": {
       "name": "input",
       "opts": {
        "password": false,
        "prompt": ""
       },
       "output_type": "stream",
       "value": "5  4"
      }
     }
    },
    "collapsed": false
   },
   "outputs": [
    {
     "name": "stdout",
     "output_type": "stream",
     "text": " 5  4"
    },
    {
     "name": "stdout",
     "output_type": "stream",
     "text": [
      "Yes\n"
     ]
    }
   ],
   "source": [
    "#take a number and if the number a is 5 and greater then b then print yes otherwise no.\n",
    "a,b = map(int, input().split())\n",
    "\n",
    "if(a==5 and a>b):\n",
    "    print(\"Yes\")\n",
    "else:\n",
    "    print(\"No\")"
   ]
  },
  {
   "cell_type": "code",
   "execution_count": 7,
   "metadata": {
    "cocalc": {
     "outputs": {
      "0": {
       "name": "input",
       "opts": {
        "password": false,
        "prompt": ""
       },
       "output_type": "stream",
       "value": "6  6"
      }
     }
    },
    "collapsed": false
   },
   "outputs": [
    {
     "name": "stdout",
     "output_type": "stream",
     "text": " 6  6"
    },
    {
     "name": "stdout",
     "output_type": "stream",
     "text": [
      "Yes\n"
     ]
    }
   ],
   "source": [
    "#Conditionals\n",
    "\n",
    "#Take two numbers as input and check the numbers are same or not. If same then print Yes otherwise print No\n",
    "\n",
    "a,b = map(int, input().split())\n",
    "\n",
    "if(a==b):\n",
    "    print(\"Yes\")\n",
    "else:\n",
    "    print(\"No\")"
   ]
  },
  {
   "cell_type": "code",
   "execution_count": 6,
   "metadata": {
    "cocalc": {
     "outputs": {
      "0": {
       "name": "input",
       "opts": {
        "password": false,
        "prompt": ""
       },
       "output_type": "stream",
       "value": "23"
      }
     }
    },
    "collapsed": false
   },
   "outputs": [
    {
     "name": "stdout",
     "output_type": "stream",
     "text": " 23"
    },
    {
     "name": "stdout",
     "output_type": "stream",
     "text": [
      "Nothing to say\n"
     ]
    }
   ],
   "source": [
    "#Take a number as input and check the number is less than 20 or not, if right then print \"I am right\", otherwise print \"Nothing to say\"\n",
    "\n",
    "a = int(input())\n",
    "\n",
    "if(a<20):\n",
    "    print(\"I am right\")\n",
    "else:\n",
    "    print(\"Nothing to say\")"
   ]
  },
  {
   "cell_type": "code",
   "execution_count": 17,
   "metadata": {
    "cocalc": {
     "outputs": {
      "0": {
       "name": "input",
       "opts": {
        "password": false,
        "prompt": ""
       },
       "output_type": "stream",
       "value": "45"
      },
      "1": {
       "name": "input",
       "opts": {
        "password": false,
        "prompt": ""
       },
       "output_type": "stream",
       "value": "23"
      }
     }
    },
    "collapsed": false
   },
   "outputs": [
    {
     "name": "stdout",
     "output_type": "stream",
     "text": " 45"
    },
    {
     "name": "stdout",
     "output_type": "stream",
     "text": " 23"
    },
    {
     "name": "stdout",
     "output_type": "stream",
     "text": [
      "34.0\n",
      "x is greater than the average\n"
     ]
    }
   ],
   "source": [
    "#Take two number and find the number that is greater than the average of the two numbers.\n",
    "x = int(input())\n",
    "y = int(input())\n",
    "\n",
    "\n",
    "avg = (x+y)/2\n",
    "print(avg)\n",
    "\n",
    "if(x>avg):\n",
    "    print(\"x is greater than the average\")\n",
    "elif(y>avg):\n",
    "    print(\"y is greater than the average\")\n",
    "else:\n",
    "    print(\"Invalid\")\n"
   ]
  },
  {
   "cell_type": "code",
   "execution_count": 6,
   "metadata": {
    "cocalc": {
     "outputs": {
      "0": {
       "name": "input",
       "opts": {
        "password": false,
        "prompt": "Enter values: "
       },
       "output_type": "stream",
       "value": "23  21"
      }
     }
    },
    "collapsed": false
   },
   "outputs": [
    {
     "name": "stdout",
     "output_type": "stream",
     "text": "Enter values:  23  21"
    },
    {
     "name": "stdout",
     "output_type": "stream",
     "text": [
      "False\n"
     ]
    }
   ],
   "source": [
    "#Find the truth value of the following expression Z = (xx % y) > (yx)\n",
    "x,y = map(float, input(\"Enter values: \").split())\n",
    "z = (x*x % y) > (y*x)\n",
    "print(z)"
   ]
  },
  {
   "cell_type": "code",
   "execution_count": 8,
   "metadata": {
    "cocalc": {
     "outputs": {
      "0": {
       "name": "input",
       "opts": {
        "password": false,
        "prompt": ""
       },
       "output_type": "stream",
       "value": "20"
      },
      "1": {
       "name": "input",
       "opts": {
        "password": false,
        "prompt": ""
       },
       "output_type": "stream",
       "value": "12"
      }
     }
    },
    "collapsed": false
   },
   "outputs": [
    {
     "name": "stdout",
     "output_type": "stream",
     "text": " 20"
    },
    {
     "name": "stdout",
     "output_type": "stream",
     "text": " 12"
    },
    {
     "name": "stdout",
     "output_type": "stream",
     "text": [
      "Odd\n"
     ]
    }
   ],
   "source": [
    "#Take two numbers and find the remainder of the two numbers divided by 5 and if the both remainder is even then print Even, otherwise print Odd\n",
    "\n",
    "a = int(input())\n",
    "b = int(input())\n",
    "\n",
    "rem1 = a % 5\n",
    "rem2 = b % 5\n",
    "\n",
    "if(rem1==0 and rem2==0):\n",
    "    print(\"Even\")\n",
    "else:\n",
    "    print(\"Odd\")"
   ]
  },
  {
   "cell_type": "code",
   "execution_count": 9,
   "metadata": {
    "cocalc": {
     "outputs": {
      "0": {
       "name": "input",
       "opts": {
        "password": false,
        "prompt": ""
       },
       "output_type": "stream",
       "value": "45"
      }
     }
    },
    "collapsed": false
   },
   "outputs": [
    {
     "name": "stdout",
     "output_type": "stream",
     "text": " 45"
    },
    {
     "name": "stdout",
     "output_type": "stream",
     "text": [
      "Invalid condition\n"
     ]
    }
   ],
   "source": [
    "#Take a number and check the number is divisable by 7 and multiple of 5 or not\n",
    "\n",
    "num = int(input())\n",
    "if(num%7 and num%5):\n",
    "    print(\"Condition fulfilled\")\n",
    "else:\n",
    "    print(\"Invalid condition\")"
   ]
  },
  {
   "cell_type": "code",
   "execution_count": 10,
   "metadata": {
    "cocalc": {
     "outputs": {
      "0": {
       "name": "input",
       "opts": {
        "password": false,
        "prompt": ""
       },
       "output_type": "stream",
       "value": "45  5"
      }
     }
    },
    "collapsed": false
   },
   "outputs": [
    {
     "name": "stdout",
     "output_type": "stream",
     "text": " 45  5"
    },
    {
     "name": "stdout",
     "output_type": "stream",
     "text": [
      "Yes\n"
     ]
    }
   ],
   "source": [
    "#Take two numbers and check if the first number is divisable by the second number, then print Yes, otherwise print No\n",
    "num1, num2 = map(int, input().split())\n",
    "\n",
    "if(num1 % num2==0):\n",
    "    print(\"Yes\")\n",
    "else:\n",
    "    print(\"No\")"
   ]
  },
  {
   "cell_type": "code",
   "execution_count": 19,
   "metadata": {
    "cocalc": {
     "outputs": {
      "0": {
       "name": "input",
       "opts": {
        "password": false,
        "prompt": ""
       },
       "output_type": "stream",
       "value": "7 8 5"
      }
     }
    },
    "collapsed": false
   },
   "outputs": [
    {
     "name": "stdout",
     "output_type": "stream",
     "text": " 7 8 5"
    },
    {
     "name": "stdout",
     "output_type": "stream",
     "text": [
      "Second largest number is 7\n"
     ]
    }
   ],
   "source": [
    "#Take three numbers and find the second largest number of them\n",
    "num1, num2, num3 = map(int, input().split())\n",
    "\n",
    "if(num1>num2>num3 or num3>num2>num1):\n",
    "    print(\"Second largest number is\", num2)\n",
    "elif(num1>num3>num2 or num2>num3>num1):\n",
    "    print(\"Second largest number is\", num3)   \n",
    "else:\n",
    "    print(\"Second largest number is\", num1)"
   ]
  },
  {
   "cell_type": "code",
   "execution_count": 20,
   "metadata": {
    "cocalc": {
     "outputs": {
      "0": {
       "name": "input",
       "opts": {
        "password": false,
        "prompt": ""
       },
       "output_type": "stream",
       "value": "65"
      }
     }
    },
    "collapsed": false
   },
   "outputs": [
    {
     "name": "stdout",
     "output_type": "stream",
     "text": " 65"
    },
    {
     "name": "stdout",
     "output_type": "stream",
     "text": [
      "NO\n"
     ]
    }
   ],
   "source": [
    "#Take a number and check the number is greater than 10 and even, then print Yes, otherwise print No\n",
    "\n",
    "num = int(input())\n",
    "if(num>10 and num%2==0):\n",
    "    print(\"Yes\")\n",
    "else:\n",
    "    print(\"NO\")"
   ]
  },
  {
   "cell_type": "code",
   "execution_count": 27,
   "metadata": {
    "cocalc": {
     "outputs": {
      "0": {
       "name": "input",
       "opts": {
        "password": false,
        "prompt": ""
       },
       "output_type": "stream",
       "value": "45.9"
      }
     }
    },
    "collapsed": false
   },
   "outputs": [
    {
     "name": "stdout",
     "output_type": "stream",
     "text": " 45.9"
    },
    {
     "name": "stdout",
     "output_type": "stream",
     "text": [
      "No\n"
     ]
    }
   ],
   "source": [
    "#Take a number and if the number is greater then 10 , then check if the number is even print Yes, else print No, otherwise print Nothing\n",
    "num = float(input())\n",
    "if(num>10):\n",
    "    if(num%2==0):\n",
    "        print(\"Yes\")\n",
    "    else:\n",
    "        print(\"No\")\n",
    "else:\n",
    "    print(\"Nothing\")"
   ]
  },
  {
   "cell_type": "code",
   "execution_count": 30,
   "metadata": {
    "cocalc": {
     "outputs": {
      "0": {
       "name": "input",
       "opts": {
        "password": false,
        "prompt": "Enter the marks of ENV403: "
       },
       "output_type": "stream",
       "value": "73"
      }
     }
    },
    "collapsed": false
   },
   "outputs": [
    {
     "name": "stdout",
     "output_type": "stream",
     "text": "Enter the marks of ENV403:  73"
    },
    {
     "name": "stdout",
     "output_type": "stream",
     "text": [
      "Grade A-\n"
     ]
    }
   ],
   "source": [
    "#Take the marks of a subject and find the grade of the marks.\n",
    "marks = float(input(\"Enter the marks of ENV403: \"))\n",
    "\n",
    "if(marks<=100 and marks>=80):\n",
    "    print(\"Grade A+\")\n",
    "elif(marks<80 and marks>=75):\n",
    "    print(\"Grade A\")\n",
    "elif(marks<75 and marks>=70):\n",
    "    print(\"Grade A-\")    \n",
    "else:\n",
    "    print(\"Fail\")\n"
   ]
  },
  {
   "cell_type": "code",
   "execution_count": 26,
   "metadata": {
    "cocalc": {
     "outputs": {
      "0": {
       "name": "input",
       "opts": {
        "password": false,
        "prompt": "Enter: "
       },
       "output_type": "stream",
       "value": "y"
      }
     }
    },
    "collapsed": false
   },
   "outputs": [
    {
     "name": "stdout",
     "output_type": "stream",
     "text": "Enter:  y"
    },
    {
     "name": "stdout",
     "output_type": "stream",
     "text": [
      "Wrong\n"
     ]
    }
   ],
   "source": [
    "#Take a character as input and check it is a,b,c,d,e or not\n",
    "\n",
    "ch = input(\"Enter: \")\n",
    "\n",
    "if ch == ('a' or ch == 'b' or ch == 'c' or ch == 'd' or ch == 'e'):\n",
    "    print(\"Right\")\n",
    "else:\n",
    "    print(\"Wrong\")"
   ]
  },
  {
   "cell_type": "code",
   "execution_count": 38,
   "metadata": {
    "cocalc": {
     "outputs": {
      "0": {
       "name": "input",
       "opts": {
        "password": false,
        "prompt": ""
       },
       "output_type": "stream",
       "value": "0.5"
      }
     }
    },
    "collapsed": false
   },
   "outputs": [
    {
     "name": "stdout",
     "output_type": "stream",
     "text": " 0.5"
    },
    {
     "name": "stdout",
     "output_type": "stream",
     "text": [
      "Odd\n"
     ]
    }
   ],
   "source": [
    "#take a number and if the number is negative then check the number is greater then -5 or not, if yes then print \"Hello\", else print \"Hi\", if the number is not negative then find the number is even or odd\n",
    "\n",
    "num1 = float(input())\n",
    "if(num1<0):\n",
    "    if(num1>-5):\n",
    "        print(\"Hello\")\n",
    "    else:\n",
    "        print(\"Hi\")\n",
    "else:\n",
    "    if(num1%2==0):\n",
    "        print(\"Even\")\n",
    "    else:\n",
    "        print(\"Odd\")"
   ]
  },
  {
   "cell_type": "code",
   "execution_count": 42,
   "metadata": {
    "cocalc": {
     "outputs": {
      "0": {
       "name": "input",
       "opts": {
        "password": false,
        "prompt": ""
       },
       "output_type": "stream",
       "value": "-7"
      }
     }
    },
    "collapsed": false
   },
   "outputs": [
    {
     "name": "stdout",
     "output_type": "stream",
     "text": " -7"
    },
    {
     "name": "stdout",
     "output_type": "stream",
     "text": [
      "Rojve\n"
     ]
    }
   ],
   "source": [
    "#Take a number and check if the number is zero or negative then check the number is less then -5 or not, if yes then print your name otherwise print \"Python\". Otherwise check the number is multiple of 3 or not.\n",
    "\n",
    "num = float(input())\n",
    "\n",
    "if(num==0 or num<0):\n",
    "    if(num<-5):\n",
    "        print(\"Rojve\")\n",
    "    else:\n",
    "        print(\"Python\")\n",
    "else:\n",
    "    if(num%3==0):\n",
    "        print(\"multiple of 3\")\n",
    "    \n",
    "    "
   ]
  },
  {
   "cell_type": "code",
   "execution_count": 45,
   "metadata": {
    "cocalc": {
     "outputs": {
      "0": {
       "name": "input",
       "opts": {
        "password": false,
        "prompt": ""
       },
       "output_type": "stream",
       "value": "34"
      }
     }
    },
    "collapsed": false
   },
   "outputs": [
    {
     "name": "stdout",
     "output_type": "stream",
     "text": " 34"
    },
    {
     "name": "stdout",
     "output_type": "stream",
     "text": [
      "Nothing\n"
     ]
    }
   ],
   "source": [
    "#Take any example from the above and use short hand if/ if-else\n",
    "\n",
    "num = float(input())\n",
    "\n",
    "if(num==0 or num<0):\n",
    "    print(\"Rojve\") if(num<-5) else print(\"Python\")\n",
    "else:\n",
    "    print(\"multiple of 3\") if(num%3==0) else print(\"Nothing\")"
   ]
  },
  {
   "cell_type": "code",
   "execution_count": 0,
   "metadata": {
    "collapsed": false
   },
   "outputs": [
   ],
   "source": [
   ]
  },
  {
   "cell_type": "code",
   "execution_count": 0,
   "metadata": {
    "collapsed": false
   },
   "outputs": [
   ],
   "source": [
   ]
  }
 ],
 "metadata": {
  "kernelspec": {
   "argv": [
    "/usr/bin/python3",
    "-m",
    "ipykernel",
    "--HistoryManager.enabled=False",
    "--matplotlib=inline",
    "-c",
    "%config InlineBackend.figure_formats = set(['retina'])\nimport matplotlib; matplotlib.rcParams['figure.figsize'] = (12, 7)",
    "-f",
    "{connection_file}"
   ],
   "display_name": "Python 3 (system-wide)",
   "env": {
   },
   "language": "python",
   "metadata": {
    "cocalc": {
     "description": "Python 3 programming language",
     "priority": 100,
     "url": "https://www.python.org/"
    }
   },
   "name": "python3",
   "resource_dir": "/ext/jupyter/kernels/python3"
  },
  "language_info": {
   "codemirror_mode": {
    "name": "ipython",
    "version": 3
   },
   "file_extension": ".py",
   "mimetype": "text/x-python",
   "name": "python",
   "nbconvert_exporter": "python",
   "pygments_lexer": "ipython3",
   "version": "3.10.12"
  }
 },
 "nbformat": 4,
 "nbformat_minor": 4
}