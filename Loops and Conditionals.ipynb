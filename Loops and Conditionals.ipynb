{
 "cells": [
  {
   "cell_type": "code",
   "execution_count": 5,
   "metadata": {
    "collapsed": false
   },
   "outputs": [
    {
     "name": "stdout",
     "output_type": "stream",
     "text": [
      "1 2 3 4 5 6 7 8 9 10 "
     ]
    }
   ],
   "source": [
    "i=1\n",
    "\n",
    "while(i<=10):\n",
    "    print(i, end=' ')\n",
    "    \n",
    "    i = i + 1\n",
    "\n",
    "\n",
    "    "
   ]
  },
  {
   "cell_type": "code",
   "execution_count": 6,
   "metadata": {
    "collapsed": false
   },
   "outputs": [
    {
     "name": "stdout",
     "output_type": "stream",
     "text": [
      "Bangledesh Bangledesh Bangledesh Bangledesh Bangledesh Bangledesh Bangledesh Bangledesh Bangledesh Bangledesh Bangledesh Bangledesh Bangledesh Bangledesh Bangledesh Bangledesh Bangledesh Bangledesh Bangledesh Bangledesh Bangledesh Bangledesh Bangledesh Bangledesh Bangledesh Bangledesh Bangledesh Bangledesh Bangledesh Bangledesh Bangledesh Bangledesh Bangledesh Bangledesh Bangledesh Bangledesh Bangledesh Bangledesh Bangledesh Bangledesh Bangledesh Bangledesh Bangledesh Bangledesh Bangledesh Bangledesh Bangledesh Bangledesh Bangledesh Bangledesh "
     ]
    }
   ],
   "source": [
    "#Print \"Bangladeh\" 50 times\n",
    "\n",
    "i = 1\n",
    "while(i<=50):\n",
    "    print(\"Bangledesh\", end=' ')\n",
    "    i = i + 1"
   ]
  },
  {
   "cell_type": "code",
   "execution_count": 8,
   "metadata": {
    "collapsed": false
   },
   "outputs": [
    {
     "name": "stdout",
     "output_type": "stream",
     "text": [
      "Bangladesh Bangladesh Bangladesh Bangladesh Bangladesh Bangladesh Bangladesh Bangladesh Bangladesh Bangladesh Bangladesh Bangladesh Bangladesh Bangladesh Bangladesh Bangladesh Bangladesh Bangladesh Bangladesh Bangladesh Bangladesh Bangladesh Bangladesh Bangladesh Bangladesh Bangladesh Bangladesh Bangladesh Bangladesh Bangladesh Bangladesh Bangladesh Bangladesh Bangladesh Bangladesh Bangladesh Bangladesh Bangladesh Bangladesh Bangladesh Bangladesh Bangladesh Bangladesh Bangladesh Bangladesh Bangladesh Bangladesh Bangladesh Bangladesh Bangladesh Bangladeh Bangladeh Bangladeh Bangladeh Bangladeh Bangladeh Bangladeh Bangladeh Bangladeh Bangladeh Bangladeh Bangladeh Bangladeh Bangladeh Bangladeh Bangladeh Bangladeh Bangladeh Bangladeh Bangladeh Bangladeh Bangladeh Bangladeh Bangladeh Bangladeh Bangladeh Bangladeh Bangladeh Bangladeh Bangladeh Bangladeh Bangladeh Bangladeh Bangladeh Bangladeh Bangladeh Bangladeh Bangladeh Bangladeh Bangladeh Bangladeh Bangladeh Bangladeh Bangladeh Bangladeh Bangladeh Bangladeh Bangladeh Bangladeh Bangladeh "
     ]
    }
   ],
   "source": [
    "for i in range(1,51,1):\n",
    "    print(\"Bangladesh\", end=' ')\n",
    "    \n",
    "for i in range(50):\n",
    "    print(\"Bangladeh\", end=' ')"
   ]
  },
  {
   "cell_type": "code",
   "execution_count": 9,
   "metadata": {
    "collapsed": false
   },
   "outputs": [
    {
     "name": "stdout",
     "output_type": "stream",
     "text": [
      "10 9 8 7 6 5 4 3 2 1 "
     ]
    }
   ],
   "source": [
    "#print 10 to 1 using loop\n",
    "i = 10\n",
    "while(i>=1):\n",
    "    print(i, end=' ')\n",
    "    i = i - 1"
   ]
  },
  {
   "cell_type": "code",
   "execution_count": 35,
   "metadata": {
    "cocalc": {
     "outputs": {
      "0": {
       "name": "input",
       "opts": {
        "password": false,
        "prompt": "Enter the value of n: "
       },
       "output_type": "stream",
       "value": "20"
      }
     }
    },
    "collapsed": false
   },
   "outputs": [
    {
     "name": "stdout",
     "output_type": "stream",
     "text": "Enter the value of n:  20"
    },
    {
     "name": "stdout",
     "output_type": "stream",
     "text": [
      "34\n"
     ]
    }
   ],
   "source": [
    "#print the sum of numbers 1 to n\n",
    "n = int(input(\"Enter the value of n: \"))\n",
    "\n",
    "sum = 0\n",
    "i = 1\n",
    "while(i<=n):\n",
    "    sum = sum + i\n",
    "    i = i + 5\n",
    "print(sum)"
   ]
  },
  {
   "cell_type": "code",
   "execution_count": 15,
   "metadata": {
    "cocalc": {
     "outputs": {
      "0": {
       "name": "input",
       "opts": {
        "password": false,
        "prompt": "Enter value: "
       },
       "output_type": "stream",
       "value": "15"
      }
     }
    },
    "collapsed": false
   },
   "outputs": [
    {
     "name": "stdout",
     "output_type": "stream",
     "text": "Enter value:  15"
    },
    {
     "name": "stdout",
     "output_type": "stream",
     "text": [
      "2 4 6 8 10 12 14 "
     ]
    }
   ],
   "source": [
    "#print the even numbers from 1 to n\n",
    "n = int(input(\"Enter value: \"))\n",
    "for i in range(1,n+1):\n",
    "    if(i%2==0):\n",
    "        print(i, end=' ')"
   ]
  },
  {
   "cell_type": "code",
   "execution_count": 4,
   "metadata": {
    "cocalc": {
     "outputs": {
      "0": {
       "name": "input",
       "opts": {
        "password": false,
        "prompt": "Enter value: "
       },
       "output_type": "stream",
       "value": "10"
      },
      "1": {
       "name": "input",
       "opts": {
        "password": false,
        "prompt": "Enter value: "
       },
       "output_type": "stream"
      }
     }
    },
    "collapsed": false
   },
   "outputs": [
    {
     "name": "stdout",
     "output_type": "stream",
     "text": "Enter value:  10"
    },
    {
     "name": "stdout",
     "output_type": "stream",
     "text": "Enter value:  "
    },
    {
     "name": "stdout",
     "output_type": "stream",
     "text": [
      "2 4 6 8 10 12 "
     ],
     "value": "10"
    },
    {
     "name": "stdout",
     "output_type": "stream",
     "text": [
      "2 4 6 8 10 "
     ]
    }
   ],
   "source": [
    "#Take a number n and print all the even numbers from 1 to n using for loop without checking condition.\n",
    "n = int(input(\"Enter value: \"))\n",
    "\n",
    "i = 0\n",
    "while(i<=n):\n",
    "    i = i + 2\n",
    "    print(i, end=' ')\n",
    "    \n",
    "n = int(input(\"Enter value: \"))\n",
    "for i in range(2,n+1,2):\n",
    "    print(i, end=' ')    \n",
    "\n"
   ]
  },
  {
   "cell_type": "code",
   "execution_count": 10,
   "metadata": {
    "cocalc": {
     "outputs": {
      "0": {
       "name": "input",
       "opts": {
        "password": false,
        "prompt": "ENter values of n amd m: "
       },
       "output_type": "stream",
       "value": "11 19"
      },
      "2": {
       "name": "input",
       "opts": {
        "password": false,
        "prompt": "ENter values of n amd m: "
       },
       "output_type": "stream",
       "value": "11 19"
      }
     }
    },
    "collapsed": false
   },
   "outputs": [
    {
     "name": "stdout",
     "output_type": "stream",
     "text": "ENter values of n amd m:  11 19"
    },
    {
     "name": "stdout",
     "output_type": "stream",
     "text": [
      "11 13 15 17 19 "
     ]
    },
    {
     "name": "stdout",
     "output_type": "stream",
     "text": "ENter values of n amd m:  11 19"
    },
    {
     "name": "stdout",
     "output_type": "stream",
     "text": [
      "11 13 15 17 "
     ]
    }
   ],
   "source": [
    "#Take n and m as input and print all the odd numbers from n to m using Loop.\n",
    "\n",
    "n,m = map(int, input(\"ENter values of n amd m: \").split())\n",
    "\n",
    "i = n\n",
    "while(i<=m):\n",
    "    if(i%2!=0):\n",
    "        print(i, end=' ')\n",
    "    i = i + 1\n",
    "    \n",
    "#for loop\n",
    "n,m = map(int, input(\"ENter values of n amd m: \").split())\n",
    "for i in range(n, m, 1):        #if m+1 is used then the value will increase and become 19.\n",
    "    if(i%2!=0):\n",
    "        print(i, end=' ')"
   ]
  },
  {
   "cell_type": "code",
   "execution_count": 18,
   "metadata": {
    "cocalc": {
     "outputs": {
      "0": {
       "name": "input",
       "opts": {
        "password": false,
        "prompt": "Enter number: "
       },
       "output_type": "stream",
       "value": "10"
      },
      "2": {
       "name": "input",
       "opts": {
        "password": false,
        "prompt": "Enter number: "
       },
       "output_type": "stream",
       "value": "10"
      }
     }
    },
    "collapsed": false
   },
   "outputs": [
    {
     "name": "stdout",
     "output_type": "stream",
     "text": "Enter number:  10"
    },
    {
     "name": "stdout",
     "output_type": "stream",
     "text": [
      "25\n"
     ]
    },
    {
     "name": "stdout",
     "output_type": "stream",
     "text": "Enter number:  10"
    },
    {
     "name": "stdout",
     "output_type": "stream",
     "text": [
      "25\n"
     ]
    }
   ],
   "source": [
    "#Find the sum of all Odd numbers from 1 to n using Loop.\n",
    "\n",
    "n = int(input(\"Enter number: \"))\n",
    "\n",
    "sum = 0\n",
    "i=1\n",
    "while(i<=n):\n",
    "    sum = sum + i\n",
    "    i=i+2\n",
    "    \n",
    "print(sum)\n",
    "\n",
    "#for loop\n",
    "n = int(input(\"Enter number: \"))\n",
    "sum = 0\n",
    "for i in range(1, n+1, 2):\n",
    "    sum = sum + i\n",
    "print(sum)\n"
   ]
  },
  {
   "cell_type": "code",
   "execution_count": 0,
   "metadata": {
    "collapsed": false
   },
   "outputs": [
   ],
   "source": [
    "#Take a number n and find the average of the numbers from 1 to n and print the average.\n",
    "\n",
    "n = int(input(\"Enter value: \"))\n",
    "\n",
    "sum = 0\n",
    "i = 1\n",
    "\n",
    "while(i<=n):\n",
    "    sum = sum + i\n",
    "    i = i + 1\n",
    "ave = sum/n\n",
    "print(ave)\n",
    "\n"
   ]
  },
  {
   "cell_type": "code",
   "execution_count": 41,
   "metadata": {
    "cocalc": {
     "outputs": {
      "0": {
       "name": "input",
       "opts": {
        "password": false,
        "prompt": "Enter vale: "
       },
       "output_type": "stream",
       "value": "5"
      }
     }
    },
    "collapsed": false
   },
   "outputs": [
    {
     "name": "stdout",
     "output_type": "stream",
     "text": "Enter vale:  5"
    },
    {
     "name": "stdout",
     "output_type": "stream",
     "text": [
      "3.0\n"
     ]
    }
   ],
   "source": [
    "#for loop\n",
    "n = int(input(\"Enter vale: \"))\n",
    "sum = 0\n",
    "for i in range(1, n+1, 1):\n",
    "    sum = sum + i\n",
    "ave = sum/n\n",
    "print(ave)"
   ]
  },
  {
   "cell_type": "code",
   "execution_count": 10,
   "metadata": {
    "cocalc": {
     "outputs": {
      "0": {
       "name": "input",
       "opts": {
        "password": false,
        "prompt": "Enter the value of n: "
       },
       "output_type": "stream",
       "value": "30"
      },
      "2": {
       "name": "input",
       "opts": {
        "password": false,
        "prompt": "Enter the value of n: "
       },
       "output_type": "stream",
       "value": "30"
      }
     }
    },
    "collapsed": false
   },
   "outputs": [
    {
     "name": "stdout",
     "output_type": "stream",
     "text": "Enter the value of n:  30"
    },
    {
     "name": "stdout",
     "output_type": "stream",
     "text": [
      "165\n"
     ]
    },
    {
     "name": "stdout",
     "output_type": "stream",
     "text": "Enter the value of n:  30"
    },
    {
     "name": "stdout",
     "output_type": "stream",
     "text": [
      "165\n"
     ]
    }
   ],
   "source": [
    "#Calculate the sum of the following series 3 + 6 + 9 + 12 + 15 + .......... + n\n",
    "\n",
    "n = int(input(\"Enter the value of n: \"))\n",
    "i=3\n",
    "sum = 0\n",
    "while(i<=n):\n",
    "    sum = sum + i\n",
    "    i = i + 3\n",
    "print(sum)\n",
    "\n",
    "#for loop\n",
    "n = int(input(\"Enter the value of n: \"))\n",
    "sum = 0\n",
    "for i in range(3, n+1, 3):\n",
    "    sum = sum + i\n",
    "    i=i+3\n",
    "print(sum)"
   ]
  },
  {
   "cell_type": "code",
   "execution_count": 42,
   "metadata": {
    "cocalc": {
     "outputs": {
      "0": {
       "name": "input",
       "opts": {
        "password": false,
        "prompt": "Enter number: "
       },
       "output_type": "stream",
       "value": "10"
      },
      "2": {
       "name": "input",
       "opts": {
        "password": false,
        "prompt": "Enter number: "
       },
       "output_type": "stream",
       "value": "10"
      }
     }
    },
    "collapsed": false,
    "scrolled": true
   },
   "outputs": [
    {
     "name": "stdout",
     "output_type": "stream",
     "text": "Enter number:  10"
    },
    {
     "name": "stdout",
     "output_type": "stream",
     "text": [
      "10 8 6 4 2 "
     ]
    },
    {
     "name": "stdout",
     "output_type": "stream",
     "text": "Enter number:  10"
    },
    {
     "name": "stdout",
     "output_type": "stream",
     "text": [
      "10 8 6 4 2 "
     ]
    }
   ],
   "source": [
    "#print the even number from n to 1 using loop.\n",
    "\n",
    "n = int(input(\"Enter number: \"))\n",
    "\n",
    "i = n\n",
    "while(i>=1): # i>=1 means the value of n will decrease and come to 1 but it will not be less than 1. \n",
    "    if(i%2==0):\n",
    "        print(i, end=' ')\n",
    "       \n",
    "    i = i - 1\n",
    "    \n",
    "    \n",
    "#for loop\n",
    "n = int(input(\"Enter number: \"))\n",
    "for i in range(n, 0, -1):\n",
    "    if(i%2==0):\n",
    "        print(i, end=' ')\n",
    "       "
   ]
  },
  {
   "cell_type": "code",
   "execution_count": 45,
   "metadata": {
    "cocalc": {
     "outputs": {
      "0": {
       "name": "input",
       "opts": {
        "password": false,
        "prompt": "Enter Number: "
       },
       "output_type": "stream",
       "value": "50"
      },
      "1": {
       "name": "input",
       "opts": {
        "password": false,
        "prompt": "Enter Number: "
       },
       "output_type": "stream"
      }
     }
    },
    "collapsed": false
   },
   "outputs": [
    {
     "name": "stdout",
     "output_type": "stream",
     "text": "Enter Number:  50"
    },
    {
     "name": "stdout",
     "output_type": "stream",
     "text": "Enter Number:  "
    },
    {
     "name": "stdout",
     "output_type": "stream",
     "text": [
      "15 30 45 "
     ],
     "value": "50"
    },
    {
     "name": "stdout",
     "output_type": "stream",
     "text": [
      "15 30 45 "
     ]
    }
   ],
   "source": [
    "#find the numbers from 1 to n that are divisable by 3 and multiple of 5. \n",
    "n = int(input(\"Enter Number: \"))\n",
    "i = 1\n",
    "while(i<=n):\n",
    "    if(i%3==0 and i%5==0):\n",
    "        print(i, end=' ')\n",
    "    i=i+1\n",
    "#for loop\n",
    "n = int(input(\"Enter Number: \"))\n",
    "for i in range(1, n+1, 1):\n",
    "    if(i%3==0 and i%5==0):\n",
    "        print(i, end=' ')"
   ]
  },
  {
   "cell_type": "code",
   "execution_count": 47,
   "metadata": {
    "cocalc": {
     "outputs": {
      "0": {
       "name": "input",
       "opts": {
        "password": false,
        "prompt": "Enter number: "
       },
       "output_type": "stream",
       "value": "30"
      }
     }
    },
    "collapsed": false
   },
   "outputs": [
    {
     "name": "stdout",
     "output_type": "stream",
     "text": "Enter number:  30"
    },
    {
     "name": "stdout",
     "output_type": "stream",
     "text": [
      "1 2 3 5 6 10 15 30 "
     ]
    }
   ],
   "source": [
    "#Take a number n as input and find the divisor of the number.\n",
    "\n",
    "n = int(input(\"Enter number: \"))\n",
    "i = 1\n",
    "while(i<=n):\n",
    "    if(n%i==0):\n",
    "        print(i, end=' ')\n",
    "    i=i+1"
   ]
  },
  {
   "cell_type": "code",
   "execution_count": 0,
   "metadata": {
    "collapsed": false
   },
   "outputs": [
   ],
   "source": [
    "#Find the factorial of n, here take n as input.\n"
   ]
  },
  {
   "cell_type": "code",
   "execution_count": 3,
   "metadata": {
    "cocalc": {
     "outputs": {
      "0": {
       "name": "input",
       "opts": {
        "password": false,
        "prompt": ""
       },
       "output_type": "stream",
       "value": "5"
      }
     }
    },
    "collapsed": false
   },
   "outputs": [
    {
     "name": "stdout",
     "output_type": "stream",
     "text": " 5"
    },
    {
     "name": "stdout",
     "output_type": "stream",
     "text": [
      "Sum is 15\n"
     ]
    }
   ],
   "source": [
    "n = int(input())\n",
    "\n",
    "sum = 0\n",
    "while(n>0):\n",
    "    sum = sum + n\n",
    "    n = n - 1\n",
    "print(f\"Sum is {sum}\")"
   ]
  },
  {
   "cell_type": "code",
   "execution_count": 11,
   "metadata": {
    "collapsed": false
   },
   "outputs": [
   ],
   "source": [
    "#Use a for loop to print out all the numbers 1 to 30, but leave out any number which is divisible by 3, such as 3, 6 and 9.\n",
    "n = 30\n",
    "i = 1\n",
    "while(i<=30):\n",
    "    i += 1\n",
    "    if(n%3==0):\n",
    "        continue\n",
    "    print(i, end=' ')"
   ]
  },
  {
   "cell_type": "code",
   "execution_count": 9,
   "metadata": {
    "collapsed": false
   },
   "outputs": [
    {
     "name": "stdout",
     "output_type": "stream",
     "text": [
      "1 2 3 4 5 6 7 8 9 10 \n",
      "\n",
      "1 2 3 4 5 6 7 8 9 10 \n",
      "\n",
      "1 2 3 4 5 6 7 8 9 10 \n",
      "\n",
      "1 2 3 4 5 6 7 8 9 10 \n",
      "\n",
      "1 2 3 4 5 6 7 8 9 10 \n",
      "\n"
     ]
    }
   ],
   "source": [
    "#Nested loop\n",
    "#print1 to 10 for 5 times\n",
    "\n",
    "for i in range(5):\n",
    "    for j in range(1,11):\n",
    "        print(j, end=' ')\n",
    "    print('\\n') #line spacing"
   ]
  },
  {
   "cell_type": "code",
   "execution_count": 3,
   "metadata": {
    "collapsed": false
   },
   "outputs": [
    {
     "name": "stdout",
     "output_type": "stream",
     "text": [
      "1 2 3 4 5 6 7 8 9 10 \n",
      "\n",
      "1 2 3 4 5 6 7 8 9 10 \n",
      "\n",
      "1 2 3 4 5 6 7 8 9 10 \n",
      "\n",
      "1 2 3 4 5 6 7 8 9 10 \n",
      "\n",
      "1 2 3 4 5 6 7 8 9 10 \n",
      "\n"
     ]
    }
   ],
   "source": [
    "for i in range(5):\n",
    "    j=1\n",
    "    while(j<=10):\n",
    "        print(j, end=' ')\n",
    "        j+=1\n",
    "    print('\\n')\n",
    "              "
   ]
  },
  {
   "cell_type": "code",
   "execution_count": 3,
   "metadata": {
    "collapsed": false
   },
   "outputs": [
    {
     "ename": "SyntaxError",
     "evalue": "invalid syntax (1248032948.py, line 2)",
     "output_type": "error",
     "traceback": [
      "\u001b[0;36m  File \u001b[0;32m\"/tmp/ipykernel_1520/1248032948.py\"\u001b[0;36m, line \u001b[0;32m2\u001b[0m\n\u001b[0;31m    *****\u001b[0m\n\u001b[0m    ^\u001b[0m\n\u001b[0;31mSyntaxError\u001b[0m\u001b[0;31m:\u001b[0m invalid syntax\n"
     ]
    }
   ],
   "source": [
    "#pattern print\n",
    "*****\n",
    "*****\n",
    "*****\n",
    "*****\n",
    "*****\n"
   ]
  },
  {
   "cell_type": "code",
   "execution_count": 8,
   "metadata": {
    "collapsed": false
   },
   "outputs": [
    {
     "name": "stdout",
     "output_type": "stream",
     "text": [
      "*  *  *  *  *  \n",
      "\n",
      "*  *  *  *  *  \n",
      "\n",
      "*  *  *  *  *  \n",
      "\n",
      "*  *  *  *  *  \n",
      "\n",
      "*  *  *  *  *  \n",
      "\n"
     ]
    }
   ],
   "source": [
    "for i in range(5):\n",
    "    for j in range(5):\n",
    "        print('*', end='  ')\n",
    "    print('\\n')"
   ]
  },
  {
   "cell_type": "code",
   "execution_count": 5,
   "metadata": {
    "cocalc": {
     "outputs": {
      "0": {
       "name": "input",
       "opts": {
        "password": false,
        "prompt": ""
       },
       "output_type": "stream",
       "value": "15"
      }
     }
    },
    "collapsed": false
   },
   "outputs": [
    {
     "name": "stdout",
     "output_type": "stream",
     "text": " 15"
    },
    {
     "name": "stdout",
     "output_type": "stream",
     "text": [
      "1 3 5 "
     ]
    }
   ],
   "source": [
    "#print the odd numbers from 1 to n using while loop but when get 7 break.\n",
    "n = int(input())\n",
    "i = 1\n",
    "while(i<=n):\n",
    "    if(i==7):\n",
    "        break\n",
    "    print(i,end=' ')\n",
    "    i += 2\n",
    "    \n",
    "    "
   ]
  },
  {
   "cell_type": "code",
   "execution_count": 6,
   "metadata": {
    "cocalc": {
     "outputs": {
      "0": {
       "name": "input",
       "opts": {
        "password": false,
        "prompt": ""
       },
       "output_type": "stream",
       "value": "15"
      }
     }
    },
    "collapsed": false
   },
   "outputs": [
    {
     "name": "stdout",
     "output_type": "stream",
     "text": " 15"
    },
    {
     "name": "stdout",
     "output_type": "stream",
     "text": [
      "3 5 9 11 13 15 17 "
     ]
    }
   ],
   "source": [
    "n = int(input())\n",
    "i = 1\n",
    "while(i<=n):\n",
    "    i += 2\n",
    "    if(i==7):\n",
    "        continue\n",
    "    print(i,end=' ')"
   ]
  },
  {
   "cell_type": "code",
   "execution_count": 3,
   "metadata": {
    "cocalc": {
     "outputs": {
      "0": {
       "name": "input",
       "opts": {
        "password": false,
        "prompt": "Enter number: "
       },
       "output_type": "stream",
       "value": "5"
      },
      "1": {
       "name": "input",
       "opts": {
        "password": false,
        "prompt": "Number of times: "
       },
       "output_type": "stream",
       "value": "4"
      }
     }
    },
    "collapsed": false,
    "scrolled": true
   },
   "outputs": [
    {
     "name": "stdout",
     "output_type": "stream",
     "text": "Enter number:  5"
    },
    {
     "name": "stdout",
     "output_type": "stream",
     "text": "Number of times:  4"
    },
    {
     "name": "stdout",
     "output_type": "stream",
     "text": [
      "5 4 3 2 1 \n",
      "\n",
      "5 4 3 2 1 \n",
      "\n",
      "5 4 3 2 1 \n",
      "\n",
      "5 4 3 2 1 \n",
      "\n"
     ]
    }
   ],
   "source": [
    "#Print n to 1 for m times. Here, you need to take n and m as input.\n",
    "\n",
    "n = int(input(\"Enter number: \"))\n",
    "m = int(input(\"Number of times: \"))\n",
    "\n",
    "for i in range(1,m+1):\n",
    "    for j in reversed(range(1,n+1)):\n",
    "        print(j, end=' ')\n",
    "    print('\\n')"
   ]
  },
  {
   "cell_type": "code",
   "execution_count": 21,
   "metadata": {
    "cocalc": {
     "outputs": {
      "0": {
       "name": "input",
       "opts": {
        "password": false,
        "prompt": "Enter number: "
       },
       "output_type": "stream",
       "value": "10"
      }
     }
    },
    "collapsed": false
   },
   "outputs": [
    {
     "name": "stdout",
     "output_type": "stream",
     "text": "Enter number:  10"
    },
    {
     "name": "stdout",
     "output_type": "stream",
     "text": [
      "1 2 3 4 "
     ]
    }
   ],
   "source": [
    "#print 1 to n and if find 5 then break\n",
    "n = int(input(\"Enter number: \"))\n",
    "i = 1\n",
    "while(i<=n):\n",
    "    if(i==5):\n",
    "        break\n",
    "    print(i, end=' ')\n",
    "       \n",
    "    i += 1\n"
   ]
  },
  {
   "cell_type": "code",
   "execution_count": 22,
   "metadata": {
    "collapsed": false
   },
   "outputs": [
    {
     "name": "stdout",
     "output_type": "stream",
     "text": [
      "p y t h n "
     ]
    }
   ],
   "source": [
    "#Take a string python and print it without o using control statements.\n",
    "for x in \"python\":\n",
    "    if x == \"o\":\n",
    "        continue\n",
    "    print(x, end=' ')"
   ]
  },
  {
   "cell_type": "code",
   "execution_count": 10,
   "metadata": {
    "collapsed": false
   },
   "outputs": [
    {
     "name": "stdout",
     "output_type": "stream",
     "text": [
      "* \n",
      "\n",
      "* * \n",
      "\n",
      "* * * \n",
      "\n",
      "* * * * \n",
      "\n",
      "* * * * * \n",
      "\n",
      "* * * * * * \n",
      "\n",
      "* * * * * * * \n",
      "\n",
      "* * * * * * * * \n",
      "\n",
      "* * * * * * * * * \n",
      "\n"
     ]
    }
   ],
   "source": [
    "for i in range(1,10):\n",
    "    for j in range(i):\n",
    "        print(\"*\", end=' ')\n",
    "    print('\\n')"
   ]
  },
  {
   "cell_type": "code",
   "execution_count": 0,
   "metadata": {
    "collapsed": false
   },
   "outputs": [
   ],
   "source": [
    "#print the following pattern\n",
    "1\n",
    "\n",
    "1 3\n",
    "\n",
    "1 3 5\n",
    "\n",
    "1 3 5 7\n",
    "\n",
    "1 3 5 7 9"
   ]
  },
  {
   "cell_type": "code",
   "execution_count": 24,
   "metadata": {
    "collapsed": false
   },
   "outputs": [
    {
     "name": "stdout",
     "output_type": "stream",
     "text": [
      "1 \n",
      "\n",
      "1 3 \n",
      "\n",
      "1 3 5 \n",
      "\n",
      "1 3 5 7 \n",
      "\n",
      "1 3 5 7 9 \n",
      "\n"
     ]
    }
   ],
   "source": [
    "for i in range(1, 6):\n",
    "    k = 1\n",
    "    for j in range(i):\n",
    "    \n",
    "    \n",
    "        print(k, end=' ')\n",
    "        k += 2\n",
    "    print('\\n')"
   ]
  },
  {
   "cell_type": "code",
   "execution_count": 32,
   "metadata": {
    "collapsed": false
   },
   "outputs": [
    {
     "name": "stdout",
     "output_type": "stream",
     "text": [
      "3 "
     ]
    }
   ],
   "source": [
    "i = 1\n",
    "i = +3\n",
    "print(i, end=' ')"
   ]
  },
  {
   "cell_type": "code",
   "execution_count": 0,
   "metadata": {
    "collapsed": false
   },
   "outputs": [
   ],
   "source": [
    "#print this pattern\n",
    "\n",
    "********\n",
    "*******\n",
    "******\n",
    "*****\n",
    "****\n",
    "***\n",
    "**\n",
    "*"
   ]
  },
  {
   "cell_type": "code",
   "execution_count": 33,
   "metadata": {
    "collapsed": false
   },
   "outputs": [
    {
     "name": "stdout",
     "output_type": "stream",
     "text": [
      "* * * * * * * * \n",
      "\n",
      "* * * * * * * \n",
      "\n",
      "* * * * * * \n",
      "\n",
      "* * * * * \n",
      "\n",
      "* * * * \n",
      "\n",
      "* * * \n",
      "\n",
      "* * \n",
      "\n",
      "* \n",
      "\n"
     ]
    }
   ],
   "source": [
    "for i in reversed(range(1,9)):\n",
    "    for j in range(i):\n",
    "        print(\"*\", end=' ')\n",
    "    print('\\n')\n",
    "    "
   ]
  },
  {
   "cell_type": "code",
   "execution_count": 46,
   "metadata": {
    "cocalc": {
     "outputs": {
      "0": {
       "name": "input",
       "opts": {
        "password": false,
        "prompt": "Enter number: "
       },
       "output_type": "stream",
       "value": "3"
      }
     }
    },
    "collapsed": false
   },
   "outputs": [
    {
     "name": "stdout",
     "output_type": "stream",
     "text": "Enter number:  3"
    },
    {
     "name": "stdout",
     "output_type": "stream",
     "text": [
      "28\n"
     ]
    }
   ],
   "source": [
    "#Calculate the sum of all odd numbers from 1 to n for 7 times and print the final sum.\n",
    "\n",
    "n = int(input(\"Enter number: \"))\n",
    "n1 = 0\n",
    "n2 = 0\n",
    "for i in range(1,8):\n",
    "    for j in range(1, n):\n",
    "        if(j%2==1):\n",
    "            n2 = n2 + j\n",
    "    n1 = n1 + n2\n",
    "print(n1)\n",
    "    "
   ]
  },
  {
   "cell_type": "code",
   "execution_count": 4,
   "metadata": {
    "cocalc": {
     "outputs": {
      "0": {
       "name": "input",
       "opts": {
        "password": false,
        "prompt": "Enter the number: "
       },
       "output_type": "stream",
       "value": "8"
      }
     }
    },
    "collapsed": false
   },
   "outputs": [
    {
     "name": "stdout",
     "output_type": "stream",
     "text": "Enter the number:  8"
    },
    {
     "name": "stdout",
     "output_type": "stream",
     "text": [
      "Fibonacci Series:\n",
      "0 1 1 2 3 5 8 13 "
     ]
    }
   ],
   "source": [
    "#Print the fibonocci series for better understand follow this video\n",
    "\n",
    "num = int(input(\"Enter the number: \"))\n",
    "\n",
    "a, b = 0, 1\n",
    "\n",
    "print(\"Fibonacci Series:\")\n",
    "for i in range(num):\n",
    "    if i == 0:\n",
    "        print(a, end=' ')\n",
    "    elif i == 1:\n",
    "        print(b, end=' ')\n",
    "    else:\n",
    "        next_num= a + b\n",
    "        print(next_num, end=' ')\n",
    "        a, b = b, next_num\n",
    "    "
   ]
  },
  {
   "cell_type": "code",
   "execution_count": 5,
   "metadata": {
    "cocalc": {
     "outputs": {
      "0": {
       "name": "input",
       "opts": {
        "password": false,
        "prompt": "Enter the number: "
       },
       "output_type": "stream",
       "value": "34"
      }
     }
    },
    "collapsed": false
   },
   "outputs": [
    {
     "name": "stdout",
     "output_type": "stream",
     "text": "Enter the number:  34"
    },
    {
     "name": "stdout",
     "output_type": "stream",
     "text": [
      "Fibonacci Series:\n",
      "0 1 1 2 3 5 8 13 21 34 55 89 144 233 377 610 987 1597 2584 4181 6765 10946 17711 28657 46368 75025 121393 196418 317811 514229 832040 1346269 2178309 3524578 "
     ]
    }
   ],
   "source": [
    "#using While loop\n",
    "num = int(input(\"Enter the number: \"))\n",
    "\n",
    "a, b = 0, 1\n",
    "i = 0\n",
    "\n",
    "print(\"Fibonacci Series:\")\n",
    "while i < num:\n",
    "    if i == 0:\n",
    "        print(a, end=' ')\n",
    "    elif i == 1:\n",
    "        print(b, end=' ')\n",
    "    else:\n",
    "        next_num = a + b\n",
    "        print(next_num, end=' ')\n",
    "        a, b = b, next_num\n",
    "    i += 1"
   ]
  },
  {
   "cell_type": "code",
   "execution_count": 0,
   "metadata": {
    "collapsed": false
   },
   "outputs": [
   ],
   "source": [
   ]
  }
 ],
 "metadata": {
  "kernelspec": {
   "argv": [
    "/usr/bin/python3",
    "-m",
    "ipykernel",
    "--HistoryManager.enabled=False",
    "--matplotlib=inline",
    "-c",
    "%config InlineBackend.figure_formats = set(['retina'])\nimport matplotlib; matplotlib.rcParams['figure.figsize'] = (12, 7)",
    "-f",
    "{connection_file}"
   ],
   "display_name": "Python 3 (system-wide)",
   "env": {
   },
   "language": "python",
   "metadata": {
    "cocalc": {
     "description": "Python 3 programming language",
     "priority": 100,
     "url": "https://www.python.org/"
    }
   },
   "name": "python3",
   "resource_dir": "/ext/jupyter/kernels/python3"
  },
  "language_info": {
   "codemirror_mode": {
    "name": "ipython",
    "version": 3
   },
   "file_extension": ".py",
   "mimetype": "text/x-python",
   "name": "python",
   "nbconvert_exporter": "python",
   "pygments_lexer": "ipython3",
   "version": "3.10.12"
  }
 },
 "nbformat": 4,
 "nbformat_minor": 4
}