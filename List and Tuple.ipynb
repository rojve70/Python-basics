{
 "cells": [
  {
   "cell_type": "code",
   "execution_count": 4,
   "metadata": {
    "cocalc": {
     "outputs": {
      "0": {
       "name": "input",
       "opts": {
        "password": false,
        "prompt": "Enter rows: "
       },
       "output_type": "stream",
       "value": "3"
      },
      "1": {
       "name": "input",
       "opts": {
        "password": false,
        "prompt": "Enter columns: "
       },
       "output_type": "stream",
       "value": "5"
      },
      "2": {
       "name": "input",
       "opts": {
        "password": false,
        "prompt": "Enter symvbol: "
       },
       "output_type": "stream",
       "value": "%"
      }
     }
    },
    "collapsed": false
   },
   "outputs": [
    {
     "name": "stdout",
     "output_type": "stream",
     "text": "Enter rows:  3"
    },
    {
     "name": "stdout",
     "output_type": "stream",
     "text": "Enter columns:  5"
    },
    {
     "name": "stdout",
     "output_type": "stream",
     "text": "Enter symvbol:  %"
    },
    {
     "name": "stdout",
     "output_type": "stream",
     "text": [
      "% % % % % \n",
      "% % % % % \n",
      "% % % % % \n"
     ]
    }
   ],
   "source": [
    "rows = int(input(\"Enter rows: \"))\n",
    "columns = int(input(\"Enter columns: \"))\n",
    "symbol = input(\"Enter symvbol: \")\n",
    "\n",
    "for i in range(rows):\n",
    "    for j in range(columns):\n",
    "        print(symbol, end=' ')\n",
    "    print()"
   ]
  },
  {
   "cell_type": "code",
   "execution_count": 8,
   "metadata": {
    "cocalc": {
     "outputs": {
      "0": {
       "name": "input",
       "opts": {
        "password": false,
        "prompt": ""
       },
       "output_type": "stream",
       "value": "3"
      }
     }
    },
    "collapsed": false
   },
   "outputs": [
    {
     "name": "stdout",
     "output_type": "stream",
     "text": " 3"
    },
    {
     "name": "stdout",
     "output_type": "stream",
     "text": [
      "3 \n",
      "3 3 \n",
      "3 3 3 \n"
     ]
    }
   ],
   "source": [
    "#Pattrens\n",
    "\n",
    "n = int(input())\n",
    "for i in range(1, n+1):\n",
    "    for j in range(1, i+1):\n",
    "        print(\"3\", end=' ')\n",
    "    print('')"
   ]
  },
  {
   "cell_type": "code",
   "execution_count": 16,
   "metadata": {
    "collapsed": false
   },
   "outputs": [
    {
     "name": "stdout",
     "output_type": "stream",
     "text": [
      "mango\n",
      "apple\n",
      "banana\n",
      "orange\n"
     ]
    }
   ],
   "source": [
    "list_fruits = ['mango', 'apple', 'banana', 'orange']\n",
    "for fruits in list_fruits:\n",
    "    for x in fruits:\n",
    "        for i in x:\n",
    "            print(i, end='')\n",
    "    print('')"
   ]
  },
  {
   "cell_type": "code",
   "execution_count": 22,
   "metadata": {
    "collapsed": false
   },
   "outputs": [
    {
     "name": "stdout",
     "output_type": "stream",
     "text": [
      "red apple\n",
      "i love it\n",
      "red veggies\n",
      "i love it\n",
      "red shirt\n",
      "i love it\n",
      "\n",
      "green apple\n",
      "i love it\n",
      "green veggies\n",
      "i love it\n",
      "green shirt\n",
      "i love it\n",
      "\n",
      "blue apple\n",
      "i love it\n",
      "blue veggies\n",
      "i love it\n",
      "blue shirt\n",
      "i love it\n",
      "\n"
     ]
    }
   ],
   "source": [
    "c = ['red', 'green', 'blue']\n",
    "i = ['apple', 'veggies', 'shirt']\n",
    "for x in c:\n",
    "    for y in i:\n",
    "        print(x,y)\n",
    "        if('red apple'):\n",
    "            print('i love it')\n",
    "    print('')\n",
    "        "
   ]
  },
  {
   "cell_type": "code",
   "execution_count": 7,
   "metadata": {
    "collapsed": false
   },
   "outputs": [
    {
     "name": "stdout",
     "output_type": "stream",
     "text": [
      "[8, 4, 3, 2, 5, 6, 1, 9, 8, 7, 3, 12]\n",
      "[8, 4, 3, 2, 5, 6, 1, 9, 8, 7, 3, 12, [50, 51, 43]]\n"
     ]
    }
   ],
   "source": [
    "lst = [8,4,3,2,5,6,1,9,8,7,3]\n",
    "\n",
    "lst.append(12)  #'append'means adding an element in last section and it will add anything as single element.\n",
    "print(lst)\n",
    "\n",
    "lst1 = [50, 51, 43]\n",
    "lst.append(lst1)\n",
    "print(lst)\n"
   ]
  },
  {
   "cell_type": "code",
   "execution_count": 20,
   "metadata": {
    "collapsed": false
   },
   "outputs": [
    {
     "name": "stdout",
     "output_type": "stream",
     "text": [
      "9\n",
      "[8, 5, 4, 3, 5, 5, 5, 5, 2, 5, 6, 1, 9, 8, 7, 3, 12, [50, 51, 43], 50, 51, 43, 50, 51, 43, 50, 51, 43, 50, 51, 43, 50, 51, 43]\n",
      "3\n"
     ]
    }
   ],
   "source": [
    "print(lst[12])\n",
    "lst.extend(lst1)\n",
    "print(lst)\n",
    "print(lst[15])\n",
    "\n",
    "\n",
    "#lst.insert(position, what)"
   ]
  },
  {
   "cell_type": "code",
   "execution_count": 18,
   "metadata": {
    "collapsed": false
   },
   "outputs": [
    {
     "name": "stdout",
     "output_type": "stream",
     "text": [
      "[8, 5, 4, 3, 5, 5, 5, 5, 2, 5, 6, 1, 9, 8, 7, 3, 12, [50, 51, 43], 50, 51, 43, 50, 51, 43, 50, 51, 43]\n"
     ]
    }
   ],
   "source": [
   ]
  },
  {
   "cell_type": "code",
   "execution_count": 24,
   "metadata": {
    "collapsed": false
   },
   "outputs": [
    {
     "name": "stdout",
     "output_type": "stream",
     "text": [
      "[8, 5, 4, 5, 5, 5, 5, 3, 5, 5, 5, 5, 2, 5, 6, 1, 9, 8, 7, 3, 12, [50, 51, 43], 50, 43, 50, 43, 50, 51, 43, 50, 51, 43, 50, 51, 43]\n",
      "[8, 5, 4, 5, 5, 5, 5, 3, 5, 5, 5, 5, 2, 5, 6, 1, 9, 8, 7, 3, 12, [50, 51, 43], 50, 43, 50, 43, 50, 43, 50, 51, 43, 50, 51, 43]\n",
      "[8, 5, 4, 5, 5, 5, 5, 3, 5, 5, 5, 5, 2, 5, 6, 1, 9, 8, 7, 3, 12, [50, 51, 43], 50, 43, 50, 43, 50, 43, 50, 51, 43, 50, 51]\n"
     ]
    }
   ],
   "source": [
    "lst.insert(3,5)\n",
    "print(lst)\n",
    "\n",
    "lst.remove(51)  #'remove' function indecates an element\n",
    "print(lst)\n"
   ]
  },
  {
   "cell_type": "code",
   "execution_count": 29,
   "metadata": {
    "collapsed": false
   },
   "outputs": [
    {
     "name": "stdout",
     "output_type": "stream",
     "text": [
      "[1, 2, 3, 3, 4, 5, 5, 5, 5, 5, 5, 5, 5, 5, 5, 6, 7, 8, 9, 12, [50, 51, 43], 50, 43, 50, 43, 50, 43, 50]\n",
      "[50, 43, 50, 43, 50, 43, 50, [50, 51, 43], 12, 9, 8, 7, 6, 5, 5, 5, 5, 5, 5, 5, 5, 5, 5, 4, 3, 3, 2, 1]\n"
     ]
    }
   ],
   "source": [
    "\n",
    "lst.pop()    # this function will remove element one by one\n",
    "print(lst)\n",
    "\n",
    "lst.reverse()\n",
    "print(lst)\n",
    "\n"
   ]
  },
  {
   "cell_type": "code",
   "execution_count": 40,
   "metadata": {
    "collapsed": false
   },
   "outputs": [
    {
     "name": "stdout",
     "output_type": "stream",
     "text": [
      "[1, 2, 3, 3, 4, 5, 5, 5, 5, 5, 5, 5, 5, 5, 5, 6, 7, 8, 9, 12, 43, 43, 43, 50, 50, 50, 50]\n",
      "[50, 50, 50, 50, 43, 43, 43, 12, 9, 8, 7, 6, 5, 5, 5, 5, 5, 5, 5, 5, 5, 5, 4, 3, 3, 2, 1]\n"
     ]
    }
   ],
   "source": [
    "\n",
    "\n",
    "lst.sort()\n",
    "print(lst)\n",
    "\n",
    "lst.sort(reverse=True)\n",
    "print(lst)"
   ]
  },
  {
   "cell_type": "code",
   "execution_count": 3,
   "metadata": {
    "collapsed": false
   },
   "outputs": [
    {
     "name": "stdout",
     "output_type": "stream",
     "text": [
      "9\n",
      "0\n",
      "40\n"
     ]
    }
   ],
   "source": [
    "lst = [4,5,6,8,2,9,1,0,2,3]\n",
    "\n",
    "print(max(lst))\n",
    "print(min(lst))\n",
    "print(sum(lst))"
   ]
  },
  {
   "cell_type": "code",
   "execution_count": 5,
   "metadata": {
    "collapsed": false
   },
   "outputs": [
    {
     "name": "stdout",
     "output_type": "stream",
     "text": [
      "<class 'list'>\n"
     ]
    }
   ],
   "source": [
    "tple = (1,2,3,4,5,6,7,8,9)\n",
    "\n",
    "lst2 = list(tple)\n",
    "print(type(lst2))"
   ]
  },
  {
   "cell_type": "code",
   "execution_count": 7,
   "metadata": {
    "collapsed": false
   },
   "outputs": [
    {
     "name": "stdout",
     "output_type": "stream",
     "text": [
      "{4, 5, 6}\n"
     ]
    }
   ],
   "source": [
    "set1 = {1,2,3,4,5,6}\n",
    "set2 = {4,5,6,7,8,9}\n",
    "\n",
    "print(set1.intersection(set2))"
   ]
  },
  {
   "cell_type": "code",
   "execution_count": 10,
   "metadata": {
    "collapsed": false
   },
   "outputs": [
    {
     "name": "stdout",
     "output_type": "stream",
     "text": [
      "{1, 2, 3, 4, 5, 6, 7, 8, 9}\n",
      "{1, 2, 3}\n"
     ]
    }
   ],
   "source": [
    "print(set1.union(set2))\n",
    "print(set1.difference(set2))"
   ]
  },
  {
   "cell_type": "code",
   "execution_count": 16,
   "metadata": {
    "collapsed": false
   },
   "outputs": [
    {
     "name": "stdout",
     "output_type": "stream",
     "text": [
      "{'name': 'Sium', 'age': 25, 'course': 'python'}\n",
      "25\n",
      "25\n",
      "{'name': 'Sium', 'age': 25, 'course': 'CSE'}\n"
     ]
    }
   ],
   "source": [
    "dic = {'name':'Sium', 'age':25, 'course':'python'}\n",
    "print(dic)\n",
    "\n",
    "print(dic['age'])\n",
    "print(dic.get('age'))\n",
    "dic['course'] = 'CSE'\n",
    "print(dic)"
   ]
  },
  {
   "cell_type": "code",
   "execution_count": 19,
   "metadata": {
    "collapsed": false
   },
   "outputs": [
    {
     "name": "stdout",
     "output_type": "stream",
     "text": [
      "dict_keys(['name', 'age', 'course'])\n",
      "dict_values(['Sium', 25, 'CSE'])\n",
      "dict_items([('name', 'Sium'), ('age', 25), ('course', 'CSE')])\n"
     ]
    }
   ],
   "source": [
    "print(dic.keys())\n",
    "print(dic.values())\n",
    "\n",
    "print(dic.items())"
   ]
  },
  {
   "cell_type": "code",
   "execution_count": 4,
   "metadata": {
    "collapsed": false
   },
   "outputs": [
    {
     "name": "stdout",
     "output_type": "stream",
     "text": [
      "2500\n"
     ]
    }
   ],
   "source": [
    "#1+3+5+....+100=?\n",
    "#print Odd number:\n",
    "\n",
    "sum = 0\n",
    "for i in range(1,101,2):\n",
    "    sum = sum + i\n",
    "print(sum)"
   ]
  },
  {
   "cell_type": "code",
   "execution_count": 5,
   "metadata": {
    "collapsed": false
   },
   "outputs": [
    {
     "name": "stdout",
     "output_type": "stream",
     "text": [
      "2500\n"
     ]
    }
   ],
   "source": [
    "sum = 0\n",
    "for i in range(1,101):\n",
    "    if(i%2==0):\n",
    "        continue\n",
    "    else:\n",
    "        sum = sum + i\n",
    "print(sum)"
   ]
  },
  {
   "cell_type": "code",
   "execution_count": 6,
   "metadata": {
    "collapsed": false
   },
   "outputs": [
    {
     "name": "stdout",
     "output_type": "stream",
     "text": [
      "2500\n"
     ]
    }
   ],
   "source": [
    "sum = 0\n",
    "for i in range(1,101):\n",
    "    if(i%2!=0):\n",
    "        sum = sum + i\n",
    "print(sum)\n",
    "\n"
   ]
  },
  {
   "cell_type": "code",
   "execution_count": 12,
   "metadata": {
    "collapsed": false
   },
   "outputs": [
    {
     "name": "stdout",
     "output_type": "stream",
     "text": [
      "2500\n"
     ]
    }
   ],
   "source": [
    "i = 1\n",
    "sum = 0\n",
    "while(i<101):\n",
    "    sum = sum + i\n",
    "    i = i + 2\n",
    "print(sum)\n",
    "\n"
   ]
  },
  {
   "cell_type": "code",
   "execution_count": 16,
   "metadata": {
    "collapsed": false
   },
   "outputs": [
    {
     "name": "stdout",
     "output_type": "stream",
     "text": [
      "2550\n"
     ]
    }
   ],
   "source": [
    "\n",
    "i = 1\n",
    "sum1 = 0\n",
    "while(i<101):\n",
    "    if(i%2==0):\n",
    "        sum1 = sum1 + i\n",
    "    i = i + 1\n",
    "print(sum1)"
   ]
  },
  {
   "cell_type": "code",
   "execution_count": 11,
   "metadata": {
    "collapsed": false
   },
   "outputs": [
    {
     "name": "stdout",
     "output_type": "stream",
     "text": [
      "ai\n",
      "data scince\n",
      "ML\n",
      "math\n"
     ]
    }
   ],
   "source": [
    "subjects = [\"ai\", \"data scince\", \"ML\", \"math\"]\n",
    "for x in subjects:\n",
    "    print(x)"
   ]
  },
  {
   "cell_type": "code",
   "execution_count": 11,
   "metadata": {
    "collapsed": false
   },
   "outputs": [
    {
     "name": "stdout",
     "output_type": "stream",
     "text": [
      "[1, 4, 5, 7, 8]\n",
      "[1, 4, 5, 7, 8, 11]\n",
      "(1, 4, 5, 7, 8, 11)\n",
      "[1, 4, 5, 7, 8, 11]\n",
      "[11, 8, 7, 5, 4, 1]\n",
      "(11, 8, 7, 5, 4, 1)\n"
     ]
    }
   ],
   "source": [
    "tple = [1,4,5,7,8]\n",
    "list1 = list(tple)\n",
    "print(list1)\n",
    "list1.append(11)\n",
    "print(list1)\n",
    "tple1 = tuple(list1)\n",
    "print(tple1)\n",
    "\n",
    "list2 = list(tple1)\n",
    "print(list2)\n",
    "list2.reverse()\n",
    "print(list2)\n",
    "tple2 = tuple(list2)\n",
    "print(tple2)"
   ]
  },
  {
   "cell_type": "code",
   "execution_count": 0,
   "metadata": {
    "collapsed": false
   },
   "outputs": [
   ],
   "source": [
   ]
  },
  {
   "cell_type": "code",
   "execution_count": 0,
   "metadata": {
    "collapsed": false
   },
   "outputs": [
   ],
   "source": [
   ]
  }
 ],
 "metadata": {
  "kernelspec": {
   "argv": [
    "/usr/bin/python3",
    "-m",
    "ipykernel",
    "--HistoryManager.enabled=False",
    "--matplotlib=inline",
    "-c",
    "%config InlineBackend.figure_formats = set(['retina'])\nimport matplotlib; matplotlib.rcParams['figure.figsize'] = (12, 7)",
    "-f",
    "{connection_file}"
   ],
   "display_name": "Python 3 (system-wide)",
   "env": {
   },
   "language": "python",
   "metadata": {
    "cocalc": {
     "description": "Python 3 programming language",
     "priority": 100,
     "url": "https://www.python.org/"
    }
   },
   "name": "python3",
   "resource_dir": "/ext/jupyter/kernels/python3"
  },
  "language_info": {
   "codemirror_mode": {
    "name": "ipython",
    "version": 3
   },
   "file_extension": ".py",
   "mimetype": "text/x-python",
   "name": "python",
   "nbconvert_exporter": "python",
   "pygments_lexer": "ipython3",
   "version": "3.10.12"
  }
 },
 "nbformat": 4,
 "nbformat_minor": 4
}