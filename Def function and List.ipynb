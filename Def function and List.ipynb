{
 "cells": [
  {
   "cell_type": "code",
   "execution_count": 13,
   "metadata": {
    "cocalc": {
     "outputs": {
      "0": {
       "name": "input",
       "opts": {
        "password": false,
        "prompt": "Enter"
       },
       "output_type": "stream",
       "value": "5 7"
      },
      "2": {
       "name": "input",
       "opts": {
        "password": false,
        "prompt": "Enter"
       },
       "output_type": "stream",
       "value": "5 7"
      }
     }
    },
    "collapsed": false
   },
   "outputs": [
    {
     "name": "stdout",
     "output_type": "stream",
     "text": "Enter 5 7"
    },
    {
     "name": "stdout",
     "output_type": "stream",
     "text": [
      "The sum is = 12\n"
     ]
    },
    {
     "name": "stdout",
     "output_type": "stream",
     "text": "Enter 5 7"
    },
    {
     "name": "stdout",
     "output_type": "stream",
     "text": [
      "(5, 7)\n"
     ]
    }
   ],
   "source": [
    "# NO argument NOTHING return\n",
    "# 'NO' argument means empty inside the called function, ex - addition()\n",
    "# input & output both inside\n",
    "\n",
    "def addition():\n",
    "    a,b = map(int,input(\"Enter\").split())\n",
    "    sum = a + b\n",
    "    print(\"The sum is =\", sum)\n",
    "addition()\n",
    "\n",
    "\n",
    "\n",
    "# NO argument but return\n",
    "def addition():\n",
    "    a,b = map(int,input(\"Enter\").split())\n",
    "    sum = a,b\n",
    "    return(sum)\n",
    "print(addition())"
   ]
  },
  {
   "cell_type": "code",
   "execution_count": 16,
   "metadata": {
    "cocalc": {
     "outputs": {
      "0": {
       "name": "input",
       "opts": {
        "password": false,
        "prompt": "Enter"
       },
       "output_type": "stream",
       "value": "5 7"
      }
     }
    },
    "collapsed": false
   },
   "outputs": [
    {
     "name": "stdout",
     "output_type": "stream",
     "text": "Enter 5 7"
    },
    {
     "name": "stdout",
     "output_type": "stream",
     "text": [
      "Answer = 12\n"
     ]
    }
   ],
   "source": [
    "# argument NOTHING return\n",
    "# 'agrument' means varaibles inside function and input shuld be called before calling function\n",
    "# input outside function\n",
    "# output inside function\n",
    "\n",
    "\n",
    "def addition(a,b):\n",
    "    \n",
    "    sum = a + b\n",
    "    \n",
    "    print(\"Answer =\",sum)\n",
    "\n",
    "a,b = map(int,input(\"Enter\").split())\n",
    "\n",
    "addition(a,b)"
   ]
  },
  {
   "cell_type": "code",
   "execution_count": 17,
   "metadata": {
    "cocalc": {
     "outputs": {
      "0": {
       "name": "input",
       "opts": {
        "password": false,
        "prompt": "Enter"
       },
       "output_type": "stream",
       "value": "5 7"
      }
     }
    },
    "collapsed": false
   },
   "outputs": [
    {
     "name": "stdout",
     "output_type": "stream",
     "text": "Enter 5 7"
    },
    {
     "name": "stdout",
     "output_type": "stream",
     "text": [
      "12\n"
     ]
    }
   ],
   "source": [
    "# argument and return\n",
    "def addition(a,b):\n",
    "    sum = a + b\n",
    "    return(sum)\n",
    "a,b = map(int,input(\"Enter\").split())\n",
    "z = addition(a,b)\n",
    "print(z)"
   ]
  },
  {
   "cell_type": "code",
   "execution_count": 27,
   "metadata": {
    "collapsed": false
   },
   "outputs": [
    {
     "name": "stdout",
     "output_type": "stream",
     "text": [
      "13\n"
     ]
    }
   ],
   "source": [
    "# *args\n",
    "\n",
    "def adder(*args):\n",
    "    sum = 0\n",
    "    \n",
    "    for i in args:\n",
    "        \n",
    "        sum = sum + i\n",
    "        # sums the number simultaniously\n",
    "\n",
    "    print(sum)\n",
    "\n",
    "adder(1,5,7)"
   ]
  },
  {
   "cell_type": "code",
   "execution_count": 9,
   "metadata": {
    "collapsed": false
   },
   "outputs": [
    {
     "name": "stdout",
     "output_type": "stream",
     "text": [
      "<class 'dict'>\n",
      "name is Rojve\n",
      "age is 24\n",
      "height is 5.7\n"
     ]
    }
   ],
   "source": [
    "def fun(**kwargs):\n",
    "    print(type(kwargs))\n",
    "    \n",
    "    for key,value in kwargs.items():\n",
    "        print(\"{} is {}\".format(key,value))\n",
    "\n",
    "fun(name = 'Rojve', age = 24, height = 5.7)\n",
    "        "
   ]
  },
  {
   "cell_type": "code",
   "execution_count": 7,
   "metadata": {
    "cocalc": {
     "outputs": {
      "0": {
       "name": "input",
       "opts": {
        "password": false,
        "prompt": "Enter numbers"
       },
       "output_type": "stream",
       "value": "7 6"
      }
     }
    },
    "collapsed": false
   },
   "outputs": [
    {
     "name": "stdout",
     "output_type": "stream",
     "text": "Enter numbers 7 6"
    },
    {
     "name": "stdout",
     "output_type": "stream",
     "text": [
      "Add is = 13\n",
      "Sub is = 1\n",
      "Multification is = 42\n",
      "Dividation is 1.167\n"
     ]
    }
   ],
   "source": [
    "# Write python codes that shows the arithmatic operations using function.\n",
    "\n",
    "def add1(x,y):\n",
    "    \n",
    "    add = x + y\n",
    "    print('Add is =',add)\n",
    "    \n",
    "def sub1(x,y):\n",
    "    \n",
    "    sub = x - y\n",
    "    print('Sub is =',sub)\n",
    "    \n",
    "def mul1(x,y):\n",
    "    \n",
    "    mul = x*y\n",
    "    print('Multification is =',mul)\n",
    "    \n",
    "def div1(x,y):\n",
    "    \n",
    "    div = x/y\n",
    "    print('Dividation is %.3f'%div)\n",
    "    \n",
    "x,y = map(int,input(\"Enter numbers\").split())\n",
    "\n",
    "add1(x, y)\n",
    "sub1(x, y)\n",
    "mul1(x, y)\n",
    "div1(x, y)"
   ]
  },
  {
   "cell_type": "code",
   "execution_count": 8,
   "metadata": {
    "collapsed": false
   },
   "outputs": [
    {
     "name": "stdout",
     "output_type": "stream",
     "text": [
      "7\n"
     ]
    }
   ],
   "source": [
    "# Find the largest number from three numbers using function.\n",
    "\n",
    "tupl = (4,6,7)\n",
    "list1 = list(tupl)\n",
    "print(max(list1))"
   ]
  },
  {
   "cell_type": "code",
   "execution_count": 9,
   "metadata": {
    "collapsed": false
   },
   "outputs": [
    {
     "name": "stdout",
     "output_type": "stream",
     "text": [
      "25\n"
     ]
    }
   ],
   "source": [
    "# Write a Python function to sum all the numbers in a list.\n",
    "\n",
    "m_set ={5,6,8,2,4}\n",
    "list2 = list(m_set)\n",
    "print(sum(list2))\n",
    "\n",
    "\n"
   ]
  },
  {
   "cell_type": "code",
   "execution_count": 20,
   "metadata": {
    "collapsed": false
   },
   "outputs": [
    {
     "name": "stdout",
     "output_type": "stream",
     "text": [
      "13\n"
     ]
    }
   ],
   "source": [
    "def sum1():\n",
    "    \n",
    "    list3 = [1,4,5,3]\n",
    "    \n",
    "    x = 0\n",
    "    for i in list3:\n",
    "        x = x + i\n",
    "    print(x)\n",
    "sum1()"
   ]
  },
  {
   "cell_type": "code",
   "execution_count": 20,
   "metadata": {
    "cocalc": {
     "outputs": {
      "0": {
       "name": "input",
       "opts": {
        "password": false,
        "prompt": "Input number: "
       },
       "output_type": "stream",
       "value": "3"
      }
     }
    },
    "collapsed": false
   },
   "outputs": [
    {
     "name": "stdout",
     "output_type": "stream",
     "text": "Input number:  3"
    },
    {
     "name": "stdout",
     "output_type": "stream",
     "text": [
      "prime\n"
     ]
    }
   ],
   "source": [
    "# Find a number is prime or not using function.\n",
    "\n",
    "def test_prime():\n",
    "\n",
    "    n = int(input(\"Input number: \"))\n",
    "\n",
    "    if(n%n==0 and n>1):\n",
    "        print(\"prime\")\n",
    "    \n",
    "    else:\n",
    "        print(\"not prime\")\n",
    "test_prime()"
   ]
  },
  {
   "cell_type": "code",
   "execution_count": 27,
   "metadata": {
    "cocalc": {
     "outputs": {
      "0": {
       "name": "input",
       "opts": {
        "password": false,
        "prompt": "Enter: "
       },
       "output_type": "stream",
       "value": "5"
      }
     }
    },
    "collapsed": false
   },
   "outputs": [
    {
     "name": "stdout",
     "output_type": "stream",
     "text": "Enter:  5"
    },
    {
     "data": {
      "text/plain": [
       "True"
      ]
     },
     "execution_count": 27,
     "metadata": {
     },
     "output_type": "execute_result"
    }
   ],
   "source": [
    "def test_prime(x):\n",
    "    x = int(input(\"Enter: \"))\n",
    "    i = 1\n",
    "    if(x==1):\n",
    "        return False\n",
    "    elif(x==2):\n",
    "        return True\n",
    "    else:\n",
    "        for i in range(2,x):\n",
    "            if(x%i==1):\n",
    "                return True\n",
    "            else:\n",
    "                return False\n",
    "test_prime(x)"
   ]
  },
  {
   "cell_type": "code",
   "execution_count": 32,
   "metadata": {
    "collapsed": false
   },
   "outputs": [
    {
     "name": "stdout",
     "output_type": "stream",
     "text": [
      "6\n",
      "12\n",
      "18\n"
     ]
    }
   ],
   "source": [
    "# Take three list of different size and claculate the sum of the list using one function.\n",
    "\n",
    "def fun(x):\n",
    "    i = 1\n",
    "    sum = 0\n",
    "    for i in x:\n",
    "         sum = sum + i\n",
    "    print(sum)\n",
    "    \n",
    "l1 = [1,2,3]\n",
    "l2 = [3,4,5]\n",
    "l3 = [5,6,7]\n",
    "fun(l1)\n",
    "fun(l2)\n",
    "fun(l3)"
   ]
  },
  {
   "cell_type": "code",
   "execution_count": 8,
   "metadata": {
    "cocalc": {
     "outputs": {
      "0": {
       "name": "input",
       "opts": {
        "password": false,
        "prompt": "Enter string: "
       },
       "output_type": "stream",
       "value": "abba"
      }
     }
    },
    "collapsed": false
   },
   "outputs": [
    {
     "name": "stdout",
     "output_type": "stream",
     "text": "Enter string:  abba"
    },
    {
     "name": "stdout",
     "output_type": "stream",
     "text": [
      "Palindrome\n"
     ]
    }
   ],
   "source": [
    "# Write a Python function that checks whether a passed string is palindrome or not.\n",
    "\n",
    "def check_palindrome():\n",
    "    a = input(\"Enter string: \")\n",
    "    b = a[-1::-1]\n",
    "    if(a==b):\n",
    "        print(\"Palindrome\")\n",
    "    else:\n",
    "        return False\n",
    "check_palindrome()"
   ]
  },
  {
   "cell_type": "code",
   "execution_count": 4,
   "metadata": {
    "cocalc": {
     "outputs": {
      "0": {
       "name": "input",
       "opts": {
        "password": false,
        "prompt": "Enter an integer: "
       },
       "output_type": "stream",
       "value": "8"
      }
     }
    },
    "collapsed": false
   },
   "outputs": [
    {
     "name": "stdout",
     "output_type": "stream",
     "text": "Enter an integer:  8"
    },
    {
     "name": "stdout",
     "output_type": "stream",
     "text": [
      "The factorial of 8 is 40320\n"
     ]
    }
   ],
   "source": [
    "# Write a Python function to calculate the factorial of a number (a non-negative integer). The function accepts the number as an argument.\n",
    "\n",
    "def factorial_list(n):\n",
    "    if n < 0:\n",
    "        raise ValueError(\"Factorial is not defined for negative numbers\")\n",
    "        \n",
    "    factorials = [1]\n",
    "    for i in range(1, n + 1):\n",
    "        next_factorial = factorials[-1] * i\n",
    "        factorials.append(next_factorial)\n",
    "        \n",
    "    return factorials[-1]\n",
    "number = int(input(\"Enter an integer: \"))\n",
    "print(f\"The factorial of {number} is {factorial_list(number)}\")"
   ]
  },
  {
   "cell_type": "code",
   "execution_count": 5,
   "metadata": {
    "collapsed": false
   },
   "outputs": [
    {
     "name": "stdout",
     "output_type": "stream",
     "text": [
      "name is Rojve\n",
      "salary is 22k\n"
     ]
    }
   ],
   "source": [
    "# Create a function showEmployee() in such a way that it should accept employee name, and its salary and display both. Use dictionary in here.\n",
    "\n",
    "def show_Employee(**kwargs):\n",
    "    for key,value in kwargs.items():\n",
    "        print(\"{} is {}\".format(key,value))\n",
    "show_Employee(name = 'Rojve', salary = '22k')"
   ]
  },
  {
   "cell_type": "code",
   "execution_count": 3,
   "metadata": {
    "cocalc": {
     "outputs": {
      "0": {
       "name": "input",
       "opts": {
        "password": false,
        "prompt": "Enter the number of elements: "
       },
       "output_type": "stream",
       "value": ""
      }
     }
    },
    "collapsed": false
   },
   "outputs": [
    {
     "name": "stdout",
     "output_type": "stream",
     "text": "Enter the number of elements:  "
    }
   ],
   "source": [
    "# Write a python function that can seperate the even and odd numbers from a list.\n",
    "\n",
    "n = int(input(\"Enter the number of elements: \"))\n",
    "li = []\n",
    "li_e = []\n",
    "li_o = []\n",
    "for i in range(n):\n",
    "    ele = int(input(\"Enter elements\"))\n",
    "    li.append(ele)\n",
    "print(\"My list =\",li)\n",
    "for i in li:\n",
    "    if(i%2==0):\n",
    "        li_e.append(i)\n",
    "    else:\n",
    "        li_o.append(i)\n",
    "print(\"Even list =\", li_e)\n",
    "print(\"Odd list =\", li_o)"
   ]
  },
  {
   "cell_type": "code",
   "execution_count": 0,
   "metadata": {
    "collapsed": false
   },
   "outputs": [
   ],
   "source": [
    "def my_list(x):\n",
    "    \n",
    "    x = int(input(\"Enter elements: \"))\n",
    "    li = []\n",
    "    for i in range(len(x)):\n",
    "        ele = int(input(\"Enter: \"))\n",
    "        li.append(ele)\n",
    "        return li        \n",
    "    \n"
   ]
  },
  {
   "cell_type": "code",
   "execution_count": 0,
   "metadata": {
    "collapsed": false
   },
   "outputs": [
   ],
   "source": [
    "# Write two different functions that show the operation of *args and *kwargs argument."
   ]
  },
  {
   "cell_type": "code",
   "execution_count": 13,
   "metadata": {
    "collapsed": false
   },
   "outputs": [
    {
     "name": "stdout",
     "output_type": "stream",
     "text": [
      "hello RJ\n"
     ]
    }
   ],
   "source": [
    "def greet(name):                              # 'Rj' ia a argument with greet function. \n",
    "                              # when we call it, it was assined to 'name' variable in                                          'greet' function.                                    \n",
    "    \n",
    "    print(\"hello\", name)\n",
    "\n",
    "greet(\"RJ\")"
   ]
  },
  {
   "cell_type": "code",
   "execution_count": 5,
   "metadata": {
    "cocalc": {
     "outputs": {
      "0": {
       "name": "input",
       "opts": {
        "password": false,
        "prompt": ""
       },
       "output_type": "stream",
       "value": "76"
      }
     }
    },
    "collapsed": false
   },
   "outputs": [
    {
     "name": "stdout",
     "output_type": "stream",
     "text": " 76"
    },
    {
     "name": "stdout",
     "output_type": "stream",
     "text": [
      "Hello 76\n"
     ]
    }
   ],
   "source": [
    "# 1st define variable inside function.\n",
    "# ex- 'n' variable inside 'greet' function.\n",
    "# 2nd identify the defined variable or make relation to the defined variable.\n",
    "# ex- we identified 'name' to our defined variable 'n'.\n",
    "# 3rd print the identified variable.\n",
    "# ex- print(\"Hello\", name)\n",
    "# 4th take another variable to asssinged it to our 'greet' function defined variable.\n",
    "# ex- n1 = input(), where 'n1' is assinged to 'n' which is defined in 'greet' function\n",
    "# 5th call the greet function with the variable which was assingned to variable of defined function. ex- greet(n1), here variable 'n1' is assigned to 'n' which is in our defined function greet. \n",
    "\n",
    "# in short:\n",
    "# define variable inside function -- identify the defined variable -- print the identified variable -- take another variable to asssinged it to our function defined variable -- call the function with that 'another variable' which was assingned to variable of defined function\n",
    "\n",
    "\n",
    "\n",
    "def greet(n):          \n",
    "    name = n\n",
    "    print(\"Hello\", name)\n",
    "n = input()\n",
    "greet(n)"
   ]
  },
  {
   "cell_type": "code",
   "execution_count": 28,
   "metadata": {
    "collapsed": false
   },
   "outputs": [
    {
     "name": "stdout",
     "output_type": "stream",
     "text": [
      "Welcome  Mina\n"
     ]
    }
   ],
   "source": [
    "# define variable inside function -- identify the defined variable -- print the identified variable -- take another variable to asssinged it to our function defined variable -- call the function with that 'another variable' which was assingned to variable of defined function.\n",
    "\n",
    "def call_name(n1,n2):\n",
    "    name = n1 and n2\n",
    "    print(\"Welcome \", name)\n",
    "call_name(\"Raju\",\"Mina\")\n",
    "     \n",
    "\n",
    "\n"
   ]
  },
  {
   "cell_type": "code",
   "execution_count": 29,
   "metadata": {
    "collapsed": false
   },
   "outputs": [
    {
     "name": "stdout",
     "output_type": "stream",
     "text": [
      "12.600000000000001\n"
     ]
    }
   ],
   "source": [
    "def add_numbers(v1, v2):\n",
    "    addition = v1 + v2\n",
    "    print(addition)\n",
    "value1 = 4.3\n",
    "value2 = 8.3\n",
    "add_numbers(value1, value2)"
   ]
  },
  {
   "cell_type": "code",
   "execution_count": 0,
   "metadata": {
    "collapsed": false
   },
   "outputs": [
   ],
   "source": [
   ]
  }
 ],
 "metadata": {
  "kernelspec": {
   "argv": [
    "/usr/bin/python3",
    "-m",
    "ipykernel",
    "--HistoryManager.enabled=False",
    "--matplotlib=inline",
    "-c",
    "%config InlineBackend.figure_formats = set(['retina'])\nimport matplotlib; matplotlib.rcParams['figure.figsize'] = (12, 7)",
    "-f",
    "{connection_file}"
   ],
   "display_name": "Python 3 (system-wide)",
   "env": {
   },
   "language": "python",
   "metadata": {
    "cocalc": {
     "description": "Python 3 programming language",
     "priority": 100,
     "url": "https://www.python.org/"
    }
   },
   "name": "python3",
   "resource_dir": "/ext/jupyter/kernels/python3"
  },
  "language_info": {
   "codemirror_mode": {
    "name": "ipython",
    "version": 3
   },
   "file_extension": ".py",
   "mimetype": "text/x-python",
   "name": "python",
   "nbconvert_exporter": "python",
   "pygments_lexer": "ipython3",
   "version": "3.10.12"
  }
 },
 "nbformat": 4,
 "nbformat_minor": 4
}